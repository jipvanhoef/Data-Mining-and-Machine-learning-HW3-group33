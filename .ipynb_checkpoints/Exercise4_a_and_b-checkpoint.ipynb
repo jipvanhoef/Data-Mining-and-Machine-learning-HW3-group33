{
 "cells": [
  {
   "cell_type": "code",
   "execution_count": 17,
   "metadata": {},
   "outputs": [],
   "source": [
    "import sklearn as sk \n",
    "import numpy as np\n",
    "import pandas as pd\n",
    "import matplotlib.pyplot as plt # data visualization library\n",
    "from sklearn.datasets import fetch_olivetti_faces\n",
    "from sklearn.decomposition import TruncatedSVD \n",
    "\n",
    "np.random.seed()\n",
    "\n",
    "# lets explore movies.csv\n",
    "movies= pd.read_csv('movies.csv') # not used, just information about the movies\n",
    "ratings=pd.read_csv('data/ratings.csv',sep=',')\n",
    "\n",
    "#init values\n",
    "tmax = 100\n",
    "r = 5\n",
    "labda = 0.0001\n",
    "\n",
    "#convert sparse representation to data matrix\n",
    "df_movie_ratings = ratings.pivot(\n",
    "    index='userId',\n",
    "    columns='movieId',\n",
    "    values='rating'\n",
    ").fillna(0)  #fill unobserved entries with μ\n",
    "\n",
    "#filter only movies with more then 200 ratings\n",
    "keep_movie = np.sum(df_movie_ratings!=0,0)>200\n",
    "df_D = df_movie_ratings.loc[:,keep_movie]\n",
    "\n",
    "#filter out all users with less then 5 movie ratings\n",
    "keep_user = np.sum(df_D!=0,1)>5\n",
    "df_D = df_D.loc[keep_user,:]\n",
    "\n",
    "#convert to data matrix\n",
    "D = df_D.to_numpy()"
   ]
  },
  {
   "cell_type": "code",
   "execution_count": 18,
   "metadata": {},
   "outputs": [],
   "source": [
    "def InitRandom(n, d, r ):\n",
    "    X = np.random.rand(d, r)\n",
    "    Y = np.random.rand(n, r)\n",
    "    return X, Y\n",
    "\n",
    "def IndicatorNonzero(D):\n",
    "    return ( D != 0).astype(int)"
   ]
  },
  {
   "cell_type": "code",
   "execution_count": 19,
   "metadata": {},
   "outputs": [
    {
     "name": "stdout",
     "output_type": "stream",
     "text": [
      "n: 344 d 18\n",
      "D shape:(344, 18) O shape(344, 18)\n"
     ]
    }
   ],
   "source": [
    "n, d = D.shape\n",
    "X, Y = InitRandom(n, d, r)\n",
    "O = IndicatorNonzero(D)\n",
    "t = 1\n",
    "print(\"n: \" + str(n) + \" d \" + str(d) )\n",
    "print(\"D shape:\" + str(D.shape) + \" O shape\" + str(O.shape))"
   ]
  },
  {
   "cell_type": "code",
   "execution_count": 20,
   "metadata": {},
   "outputs": [],
   "source": [
    "mses = []\n",
    "\n",
    "def matrix_completion(D, r, tmax=100, labda=0.00001):\n",
    "    n, d = D.shape #n = 344, d = 18\n",
    "    X, Y = InitRandom(n, d, r) # = (d,r), Y = (n,r)\n",
    "    O = IndicatorNonzero(D)\n",
    "    t = 1\n",
    "\n",
    "    while t < tmax:\n",
    "        for k in range(d):\n",
    "            OXk = np.diag(O[:, k])\n",
    "            X[k,] = D[:,k].T.dot(Y) @ np.linalg.inv(Y.T @ OXk @ Y + labda*np.eye(r))\n",
    "        for i in range(n):\n",
    "            OYi = np.diag(O[i,:])\n",
    "            result = D[i].dot(X) @ np.linalg.inv(X.T @ OYi @ X + labda*np.eye(r))\n",
    "            Y[i,] =  result\n",
    "            \n",
    "        mse = (1/np.sum(O)) * (np.linalg.norm(D - np.multiply(O,(Y @ X.T)), ord = 2))**2\n",
    "\n",
    "        mses.append(mse)\n",
    "        t += 1\n",
    "\n",
    "    return X, Y\n",
    "\n",
    "# Run matrix completion algorithm\n",
    "X, Y = matrix_completion(D, r, tmax, labda)"
   ]
  },
  {
   "cell_type": "code",
   "execution_count": 21,
   "metadata": {},
   "outputs": [
    {
     "data": {
      "image/png": "[encoded data removed]",
      "text/plain": [
       "<Figure size 432x288 with 1 Axes>"
      ]
     },
     "metadata": {
      "needs_background": "light"
     },
     "output_type": "display_data"
    }
   ],
   "source": [
    "# Plot MSEO vs. iteration\n",
    "plt.plot(range(2, tmax), mses[1:])\n",
    "plt.xlabel('Iteration')\n",
    "plt.ylabel('MSEO')\n",
    "\n",
    "plt.show()"
   ]
  },
  {
   "cell_type": "code",
   "execution_count": 29,
   "metadata": {},
   "outputs": [
    {
     "data": {
      "text/plain": [
       "((18, 5), (344, 5))"
      ]
     },
     "execution_count": 29,
     "metadata": {},
     "output_type": "execute_result"
    }
   ],
   "source": [
    "X.shape, Y.shape"
   ]
  },
  {
   "cell_type": "code",
   "execution_count": 34,
   "metadata": {},
   "outputs": [],
   "source": [
    "S = X @ Y.T"
   ]
  },
  {
   "cell_type": "code",
   "execution_count": 35,
   "metadata": {},
   "outputs": [
    {
     "data": {
      "text/plain": [
       "(18, 344)"
      ]
     },
     "execution_count": 35,
     "metadata": {},
     "output_type": "execute_result"
    }
   ],
   "source": [
    "S.shape"
   ]
  },
  {
   "cell_type": "code",
   "execution_count": 37,
   "metadata": {},
   "outputs": [
    {
     "data": {
      "text/plain": [
       "array([[  3.72187156, -31.01330221,   3.68076978, ...,   2.6999778 ,\n",
       "          3.33428831,   4.09411414],\n",
       "       [  4.21266488,   2.24118615,   3.53748004, ...,   3.89762387,\n",
       "          3.5926568 ,   4.23592202],\n",
       "       [  4.69597551,  14.42606098,   4.07974944, ...,   4.26085457,\n",
       "          3.69906184,   4.46082342]])"
      ]
     },
     "execution_count": 37,
     "metadata": {},
     "output_type": "execute_result"
    }
   ],
   "source": [
    "S[:3]"
   ]
  },
  {
   "cell_type": "code",
   "execution_count": 51,
   "metadata": {},
   "outputs": [
    {
     "data": {
      "text/html": [
       "<div>\n",
       "<style scoped>\n",
       "    .dataframe tbody tr th:only-of-type {\n",
       "        vertical-align: middle;\n",
       "    }\n",
       "\n",
       "    .dataframe tbody tr th {\n",
       "        vertical-align: top;\n",
       "    }\n",
       "\n",
       "    .dataframe thead th {\n",
       "        text-align: right;\n",
       "    }\n",
       "</style>\n",
       "<table border=\"1\" class=\"dataframe\">\n",
       "  <thead>\n",
       "    <tr style=\"text-align: right;\">\n",
       "      <th></th>\n",
       "      <th>0</th>\n",
       "      <th>1</th>\n",
       "      <th>2</th>\n",
       "    </tr>\n",
       "  </thead>\n",
       "  <tbody>\n",
       "    <tr>\n",
       "      <th>0</th>\n",
       "      <td>3.721872</td>\n",
       "      <td>-31.013302</td>\n",
       "      <td>3.680770</td>\n",
       "    </tr>\n",
       "    <tr>\n",
       "      <th>1</th>\n",
       "      <td>4.212665</td>\n",
       "      <td>2.241186</td>\n",
       "      <td>3.537480</td>\n",
       "    </tr>\n",
       "    <tr>\n",
       "      <th>2</th>\n",
       "      <td>4.695976</td>\n",
       "      <td>14.426061</td>\n",
       "      <td>4.079749</td>\n",
       "    </tr>\n",
       "    <tr>\n",
       "      <th>3</th>\n",
       "      <td>4.114924</td>\n",
       "      <td>-13.586910</td>\n",
       "      <td>3.575979</td>\n",
       "    </tr>\n",
       "    <tr>\n",
       "      <th>4</th>\n",
       "      <td>3.547841</td>\n",
       "      <td>-46.562616</td>\n",
       "      <td>3.491344</td>\n",
       "    </tr>\n",
       "    <tr>\n",
       "      <th>5</th>\n",
       "      <td>5.205384</td>\n",
       "      <td>5.234522</td>\n",
       "      <td>3.516220</td>\n",
       "    </tr>\n",
       "    <tr>\n",
       "      <th>6</th>\n",
       "      <td>4.468757</td>\n",
       "      <td>1.247336</td>\n",
       "      <td>4.804939</td>\n",
       "    </tr>\n",
       "    <tr>\n",
       "      <th>7</th>\n",
       "      <td>4.482984</td>\n",
       "      <td>-8.143082</td>\n",
       "      <td>4.140480</td>\n",
       "    </tr>\n",
       "    <tr>\n",
       "      <th>8</th>\n",
       "      <td>4.155521</td>\n",
       "      <td>-23.377316</td>\n",
       "      <td>3.935652</td>\n",
       "    </tr>\n",
       "    <tr>\n",
       "      <th>9</th>\n",
       "      <td>3.685286</td>\n",
       "      <td>-37.197670</td>\n",
       "      <td>3.612095</td>\n",
       "    </tr>\n",
       "    <tr>\n",
       "      <th>10</th>\n",
       "      <td>4.635115</td>\n",
       "      <td>-14.164808</td>\n",
       "      <td>3.913876</td>\n",
       "    </tr>\n",
       "    <tr>\n",
       "      <th>11</th>\n",
       "      <td>4.806753</td>\n",
       "      <td>0.672139</td>\n",
       "      <td>3.334592</td>\n",
       "    </tr>\n",
       "    <tr>\n",
       "      <th>12</th>\n",
       "      <td>4.383238</td>\n",
       "      <td>4.521181</td>\n",
       "      <td>3.970423</td>\n",
       "    </tr>\n",
       "    <tr>\n",
       "      <th>13</th>\n",
       "      <td>3.188584</td>\n",
       "      <td>-95.483886</td>\n",
       "      <td>4.156756</td>\n",
       "    </tr>\n",
       "    <tr>\n",
       "      <th>14</th>\n",
       "      <td>5.276686</td>\n",
       "      <td>4.829748</td>\n",
       "      <td>3.555123</td>\n",
       "    </tr>\n",
       "    <tr>\n",
       "      <th>15</th>\n",
       "      <td>4.757295</td>\n",
       "      <td>0.964298</td>\n",
       "      <td>3.273610</td>\n",
       "    </tr>\n",
       "    <tr>\n",
       "      <th>16</th>\n",
       "      <td>4.748828</td>\n",
       "      <td>4.994596</td>\n",
       "      <td>7.101843</td>\n",
       "    </tr>\n",
       "    <tr>\n",
       "      <th>17</th>\n",
       "      <td>4.675963</td>\n",
       "      <td>1.967315</td>\n",
       "      <td>5.861660</td>\n",
       "    </tr>\n",
       "  </tbody>\n",
       "</table>\n",
       "</div>"
      ],
      "text/plain": [
       "           0          1         2\n",
       "0   3.721872 -31.013302  3.680770\n",
       "1   4.212665   2.241186  3.537480\n",
       "2   4.695976  14.426061  4.079749\n",
       "3   4.114924 -13.586910  3.575979\n",
       "4   3.547841 -46.562616  3.491344\n",
       "5   5.205384   5.234522  3.516220\n",
       "6   4.468757   1.247336  4.804939\n",
       "7   4.482984  -8.143082  4.140480\n",
       "8   4.155521 -23.377316  3.935652\n",
       "9   3.685286 -37.197670  3.612095\n",
       "10  4.635115 -14.164808  3.913876\n",
       "11  4.806753   0.672139  3.334592\n",
       "12  4.383238   4.521181  3.970423\n",
       "13  3.188584 -95.483886  4.156756\n",
       "14  5.276686   4.829748  3.555123\n",
       "15  4.757295   0.964298  3.273610\n",
       "16  4.748828   4.994596  7.101843\n",
       "17  4.675963   1.967315  5.861660"
      ]
     },
     "execution_count": 51,
     "metadata": {},
     "output_type": "execute_result"
    }
   ],
   "source": [
    "df = pd.DataFrame(S)\n",
    "df.iloc[:,0:3]"
   ]
  },
  {
   "cell_type": "code",
   "execution_count": 22,
   "metadata": {},
   "outputs": [],
   "source": [
    "from numpy.linalg import eigvals\n",
    "\n",
    "def check_minimum(X, Y, D):\n",
    "    \"\"\"\n",
    "    Check if the point (U, V) is a local minimum or a global minimum.\n",
    "    \n",
    "    Parameters:\n",
    "    - X: user matrix\n",
    "    - Y: item matrix\n",
    "    - D: user-item rating matrix\n",
    "    \n",
    "    Returns:\n",
    "    - is_minimum: boolean indicating if the point is a local minimum\n",
    "    \"\"\"\n",
    "    m, k = X.shape\n",
    "    k, n = Y.shape\n",
    "    \n",
    "    # Compute Hessian matrix\n",
    "    XYT = np.dot(X, Y.T)\n",
    "    H_X = np.zeros((k, k))\n",
    "    for i in range(m):\n",
    "        for j in range(n):\n",
    "            if D[i, j] > 0:\n",
    "                d_ij = D[i, j] - XYT[i, j]\n",
    "                H_X += np.outer(Y[:, j], Y[:, j]) * d_ij\n",
    "    H_X *= 2\n",
    "    H_Y = H_X.T\n",
    "    \n",
    "    # Check eigenvalues of Hessian matrix\n",
    "    eig_H_X = eigvals(H_X)\n",
    "    eig_H_Y = eigvals(H_Y)\n",
    "    is_minimum = (eig_H_X > 0).all() and (eig_H_Y > 0).all()\n",
    "    return is_minimum\n"
   ]
  },
  {
   "cell_type": "markdown",
   "metadata": {},
   "source": [
    "if all eigenvalues of the Hessian matrix are positive, that means that the point (U, V) is a local minimum of the objective function. If that's the case the function returns True, otherwise it returns False."
   ]
  },
  {
   "cell_type": "code",
   "execution_count": 23,
   "metadata": {},
   "outputs": [
    {
     "name": "stdout",
     "output_type": "stream",
     "text": [
      "False\n"
     ]
    }
   ],
   "source": [
    "is_local_minimum = check_minimum(X, Y, D)\n",
    "print(is_local_minimum)"
   ]
  },
  {
   "cell_type": "code",
   "execution_count": null,
   "metadata": {},
   "outputs": [],
   "source": []
  }
 ],
 "metadata": {
  "kernelspec": {
   "display_name": "Python 3",
   "language": "python",
   "name": "python3"
  },
  "language_info": {
   "codemirror_mode": {
    "name": "ipython",
    "version": 3
   },
   "file_extension": ".py",
   "mimetype": "text/x-python",
   "name": "python",
   "nbconvert_exporter": "python",
   "pygments_lexer": "ipython3",
   "version": "3.7.6"
  },
  "vscode": {
   "interpreter": {
    "hash": "adb3876eade566ada72ff9ca3d34e8de14d84c64974bf980b59b273858873b90"
   }
  }
 },
 "nbformat": 4,
 "nbformat_minor": 2
}
