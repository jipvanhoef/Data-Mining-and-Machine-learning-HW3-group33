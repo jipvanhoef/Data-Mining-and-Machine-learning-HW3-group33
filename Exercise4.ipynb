{
 "cells": [
  {
   "cell_type": "code",
   "execution_count": 1,
   "metadata": {},
   "outputs": [],
   "source": [
    "import sklearn as sk \n",
    "import numpy as np\n",
    "import pandas as pd\n",
    "import matplotlib.pyplot as plt # data visualization library\n",
    "from sklearn.datasets import fetch_olivetti_faces\n",
    "from sklearn.decomposition import TruncatedSVD \n",
    "\n",
    "np.random.seed()\n",
    "\n",
    "# lets explore movies.csv\n",
    "movies= pd.read_csv('data/movies.csv')\n",
    "ratings=pd.read_csv('data/ratings.csv',sep=',')\n",
    "\n",
    "#init values\n",
    "tmax = 100\n",
    "r = 5\n",
    "labda = 0.0001\n",
    "\n",
    "#convert sparse representation to data matrix\n",
    "df_movie_ratings = ratings.pivot(\n",
    "    index='userId',\n",
    "    columns='movieId',\n",
    "    values='rating'\n",
    ").fillna(0)  #fill unobserved entries with μ\n",
    "\n",
    "#filter only movies with more then 200 ratings\n",
    "keep_movie = np.sum(df_movie_ratings!=0,0)>200\n",
    "df_D = df_movie_ratings.loc[:,keep_movie]\n",
    "\n",
    "#filter out all users with less then 5 movie ratings\n",
    "keep_user = np.sum(df_D!=0,1)>5\n",
    "df_D = df_D.loc[keep_user,:]\n",
    "\n",
    "#convert to data matrix\n",
    "D = df_D.to_numpy()"
   ]
  },
  {
   "cell_type": "code",
   "execution_count": 2,
   "metadata": {},
   "outputs": [],
   "source": [
    "def InitRandom(n, d, r ):\n",
    "    X = np.random.rand(d, r)\n",
    "    Y = np.random.rand(n, r)\n",
    "    return X, Y\n",
    "\n",
    "def IndicatorNonzero(D):\n",
    "    return ( D != 0).astype(int)"
   ]
  },
  {
   "cell_type": "code",
   "execution_count": 9,
   "metadata": {},
   "outputs": [
    {
     "name": "stdout",
     "output_type": "stream",
     "text": [
      "n: 344 d 18\n",
      "D shape:(344, 18) O shape(344, 18)\n"
     ]
    }
   ],
   "source": [
    "n, d = D.shape\n",
    "X, Y = InitRandom(n, d, r)\n",
    "O = IndicatorNonzero(D)\n",
    "t = 1\n",
    "print(\"n: \" + str(n) + \" d \" + str(d) )\n",
    "print(\"D shape:\" + str(D.shape) + \" O shape\" + str(O.shape))"
   ]
  },
  {
   "cell_type": "code",
   "execution_count": null,
   "metadata": {},
   "outputs": [],
   "source": []
  },
  {
   "cell_type": "code",
   "execution_count": 12,
   "metadata": {},
   "outputs": [
    {
     "ename": "ValueError",
     "evalue": "operands could not be broadcast together with shapes (5,5) (18,18) ",
     "output_type": "error",
     "traceback": [
      "\u001b[1;31m---------------------------------------------------------------------------\u001b[0m",
      "\u001b[1;31mValueError\u001b[0m                                Traceback (most recent call last)",
      "\u001b[1;32mc:\\Users\\20201930\\Documents\\Uni\\2022-2023\\Q2\\Data Mining and Machine Learning\\Data-Mining-and-Machine-learning-HW3-group33\\Exercise4.ipynb Cell 5\u001b[0m in \u001b[0;36m<module>\u001b[1;34m\u001b[0m\n\u001b[0;32m     <a href='vscode-notebook-cell:/c%3A/Users/20201930/Documents/Uni/2022-2023/Q2/Data%20Mining%20and%20Machine%20Learning/Data-Mining-and-Machine-learning-HW3-group33/Exercise4.ipynb#W2sZmlsZQ%3D%3D?line=18'>19</a>\u001b[0m     \u001b[39mreturn\u001b[39;00m X, Y\n\u001b[0;32m     <a href='vscode-notebook-cell:/c%3A/Users/20201930/Documents/Uni/2022-2023/Q2/Data%20Mining%20and%20Machine%20Learning/Data-Mining-and-Machine-learning-HW3-group33/Exercise4.ipynb#W2sZmlsZQ%3D%3D?line=20'>21</a>\u001b[0m \u001b[39m# Run matrix completion algorithm\u001b[39;00m\n\u001b[1;32m---> <a href='vscode-notebook-cell:/c%3A/Users/20201930/Documents/Uni/2022-2023/Q2/Data%20Mining%20and%20Machine%20Learning/Data-Mining-and-Machine-learning-HW3-group33/Exercise4.ipynb#W2sZmlsZQ%3D%3D?line=21'>22</a>\u001b[0m X, Y \u001b[39m=\u001b[39m matrix_completion(D, r, tmax, labda)\n",
      "\u001b[1;32mc:\\Users\\20201930\\Documents\\Uni\\2022-2023\\Q2\\Data Mining and Machine Learning\\Data-Mining-and-Machine-learning-HW3-group33\\Exercise4.ipynb Cell 5\u001b[0m in \u001b[0;36mmatrix_completion\u001b[1;34m(D, r, tmax, labda)\u001b[0m\n\u001b[0;32m      <a href='vscode-notebook-cell:/c%3A/Users/20201930/Documents/Uni/2022-2023/Q2/Data%20Mining%20and%20Machine%20Learning/Data-Mining-and-Machine-learning-HW3-group33/Exercise4.ipynb#W2sZmlsZQ%3D%3D?line=8'>9</a>\u001b[0m OXk \u001b[39m=\u001b[39m np\u001b[39m.\u001b[39mdiag(O[:,k])\n\u001b[0;32m     <a href='vscode-notebook-cell:/c%3A/Users/20201930/Documents/Uni/2022-2023/Q2/Data%20Mining%20and%20Machine%20Learning/Data-Mining-and-Machine-learning-HW3-group33/Exercise4.ipynb#W2sZmlsZQ%3D%3D?line=9'>10</a>\u001b[0m Dk \u001b[39m=\u001b[39m D[:,k]\u001b[39m.\u001b[39mT\u001b[39m.\u001b[39mdot(Y)\n\u001b[1;32m---> <a href='vscode-notebook-cell:/c%3A/Users/20201930/Documents/Uni/2022-2023/Q2/Data%20Mining%20and%20Machine%20Learning/Data-Mining-and-Machine-learning-HW3-group33/Exercise4.ipynb#W2sZmlsZQ%3D%3D?line=10'>11</a>\u001b[0m inverse \u001b[39m=\u001b[39m np\u001b[39m.\u001b[39mlinalg\u001b[39m.\u001b[39minv(Y\u001b[39m.\u001b[39;49mT \u001b[39m@\u001b[39;49m OXk \u001b[39m@\u001b[39;49m Y \u001b[39m+\u001b[39;49m labda\u001b[39m*\u001b[39;49mnp\u001b[39m.\u001b[39;49meye(d))\n\u001b[0;32m     <a href='vscode-notebook-cell:/c%3A/Users/20201930/Documents/Uni/2022-2023/Q2/Data%20Mining%20and%20Machine%20Learning/Data-Mining-and-Machine-learning-HW3-group33/Exercise4.ipynb#W2sZmlsZQ%3D%3D?line=11'>12</a>\u001b[0m \u001b[39mprint\u001b[39m(\u001b[39m\"\u001b[39m\u001b[39minverse shape:\u001b[39m\u001b[39m\"\u001b[39m \u001b[39m+\u001b[39m \u001b[39mstr\u001b[39m(inverse\u001b[39m.\u001b[39mshape))\n\u001b[0;32m     <a href='vscode-notebook-cell:/c%3A/Users/20201930/Documents/Uni/2022-2023/Q2/Data%20Mining%20and%20Machine%20Learning/Data-Mining-and-Machine-learning-HW3-group33/Exercise4.ipynb#W2sZmlsZQ%3D%3D?line=12'>13</a>\u001b[0m X[:, k] \u001b[39m=\u001b[39m Dk \u001b[39m@\u001b[39m inverse\n",
      "\u001b[1;31mValueError\u001b[0m: operands could not be broadcast together with shapes (5,5) (18,18) "
     ]
    }
   ],
   "source": [
    "def matrix_completion(D, r, tmax, labda):\n",
    "    n, d = D.shape\n",
    "    X, Y = InitRandom(n, d, r)\n",
    "    O = IndicatorNonzero(D)\n",
    "    t = 1\n",
    "\n",
    "    while t < tmax:\n",
    "        for k in range(d):\n",
    "            OXk = np.diag(O[:,k])\n",
    "            Dk = D[:,k].T.dot(Y)\n",
    "            inverse = np.linalg.inv(Y.T @ OXk @ Y + labda*np.eye(n))\n",
    "            print(\"inverse shape:\" + str(inverse.shape))\n",
    "            X[:, k] = Dk @ inverse\n",
    "        for i in range(n):\n",
    "            OYi = np.diag(O[i,:])\n",
    "            Y[i,:] = D[i]*X @ np.linalg.inv(X.T @ OYi @ X + labda*np.eye(d))\n",
    "        t += 1\n",
    "            inverse = np.linalg.inv(Y.T @ OXk @ Y + labda*np.eye(r))\n",
    "            print(\"inverse shape:\" + str(inverse.shape))\n",
    "            X[:, k] = Dk @ inverse\n",
    "        for i in range(n):\n",
    "            OYi = np.diag(O[i,:])\n",
    "            Y[i,:] = D[i]*X @ np.linalg.inv(X.T @ OYi @ X + labda*np.eye(r))\n",
  },
  {
   "cell_type": "code",
   "execution_count": 8,
   "metadata": {},
   "outputs": [
    {
     "data": {
      "image/png": "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",
      "text/plain": [
       "<Figure size 432x288 with 1 Axes>"
      ]
     },
     "metadata": {
      "needs_background": "light"
     },
     "output_type": "display_data"
    }
   ],
   "source": [
    "# Calculate MSEO at each iteration\n",
    "O = IndicatorNonzero(D)\n",
    "mses = []\n",
    "for t in range(1, tmax+1):\n",
    "    mse = 1/np.sum(O) * np.linalg.norm(D - O*(Y @ X.T))**2\n",
    "    mses.append(mse)\n",
    "\n",
    "# Plot MSEO vs. iteration\n",
    "plt.plot(range(1, tmax+1), mses)\n",
    "plt.xlabel('Iteration')\n",
    "plt.ylabel('MSEO')\n",
    "plt.show()"
   ]
  }
 ],
 "metadata": {
  "kernelspec": {
   "display_name": "Python 3",
   "language": "python",
   "name": "python3"
  },
  "language_info": {
   "codemirror_mode": {
    "name": "ipython",
    "version": 3
   },
   "file_extension": ".py",
   "mimetype": "text/x-python",
   "name": "python",
   "nbconvert_exporter": "python",
   "pygments_lexer": "ipython3",
   "version": "3.9.4"
  },
  "vscode": {
   "interpreter": {
    "hash": "be56beda92e9a2a216b9804457e2a0559a092d703fd904f245c1d4f7d587f64d"
   }
  }
 },
 "nbformat": 4,
 "nbformat_minor": 4
}
