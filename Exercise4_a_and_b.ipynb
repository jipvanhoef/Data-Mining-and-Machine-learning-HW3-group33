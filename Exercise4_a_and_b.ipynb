{
 "cells": [
  {
   "cell_type": "code",
   "execution_count": 28,
   "metadata": {},
   "outputs": [],
   "source": [
    "import sklearn as sk \n",
    "import numpy as np\n",
    "import pandas as pd\n",
    "import matplotlib.pyplot as plt # data visualization library\n",
    "from sklearn.datasets import fetch_olivetti_faces\n",
    "from sklearn.decomposition import TruncatedSVD \n",
    "\n",
    "np.random.seed()\n",
    "\n",
    "# lets explore movies.csv\n",
    "movies= pd.read_csv('movies.csv') # not used, just information about the movies\n",
    "ratings=pd.read_csv('data/ratings.csv',sep=',')\n",
    "\n",
    "#init values\n",
    "tmax = 100\n",
    "r = 5\n",
    "labda = 0.001\n",
    "\n",
    "#convert sparse representation to data matrix\n",
    "df_movie_ratings = ratings.pivot(\n",
    "    index='userId',\n",
    "    columns='movieId',\n",
    "    values='rating'\n",
    ").fillna(0)  #fill unobserved entries with μ\n",
    "\n",
    "#filter only movies with more then 200 ratings\n",
    "keep_movie = np.sum(df_movie_ratings!=0,0)>200\n",
    "df_D = df_movie_ratings.loc[:,keep_movie]\n",
    "\n",
    "#filter out all users with less then 5 movie ratings\n",
    "keep_user = np.sum(df_D!=0,1)>5\n",
    "df_D = df_D.loc[keep_user,:]\n",
    "\n",
    "#convert to data matrix\n",
    "D = df_D.to_numpy()"
   ]
  },
  {
   "cell_type": "code",
   "execution_count": 29,
   "metadata": {},
   "outputs": [],
   "source": [
    "def InitRandom(n, d, r ):\n",
    "    X = np.random.rand(d, r)\n",
    "    Y = np.random.rand(n, r)\n",
    "    return X, Y\n",
    "\n",
    "def IndicatorNonzero(D):\n",
    "    return ( D != 0).astype(int)"
   ]
  },
  {
   "cell_type": "code",
   "execution_count": 30,
   "metadata": {},
   "outputs": [
    {
     "name": "stdout",
     "output_type": "stream",
     "text": [
      "n: 344 d 18\n",
      "D shape:(344, 18) O shape(344, 18)\n"
     ]
    }
   ],
   "source": [
    "n, d = D.shape\n",
    "X, Y = InitRandom(n, d, r)\n",
    "O = IndicatorNonzero(D)\n",
    "t = 1\n",
    "print(\"n: \" + str(n) + \" d \" + str(d) )\n",
    "print(\"D shape:\" + str(D.shape) + \" O shape\" + str(O.shape))\n"
   ]
  },
  {
   "cell_type": "code",
   "execution_count": 31,
   "metadata": {},
   "outputs": [],
   "source": [
    "def stoppingcriteria(mses):\n",
    "    if len(mses) < 10:\n",
    "        return False\n",
    "    else:\n",
    "        delta = []\n",
    "        for i in range(1,12):\n",
    "            delta.append((mses[len(mses)-i-1]) - mses[len(mses)-i])\n",
    "        delta = np.mean(delta)\n",
    "        if delta < 0:\n",
    "            return True\n",
    "        else:\n",
    "            return False"
   ]
  },
  {
   "cell_type": "code",
   "execution_count": 32,
   "metadata": {},
   "outputs": [],
   "source": [
    "mses = []\n",
    "\n",
    "def matrix_completion(D, r, tmax=100, labda=0.00001):\n",
    "    n, d = D.shape #n = 344, d = 18\n",
    "    X, Y = InitRandom(n, d, r) # = (d,r), Y = (n,r)\n",
    "    O = IndicatorNonzero(D)\n",
    "    t = 1\n",
    "\n",
    "    while t < tmax:\n",
    "        for k in range(d):\n",
    "            OXk = np.diag(O[:, k])\n",
    "            X[k,] = D[:,k].T.dot(Y) @ np.linalg.inv(Y.T @ OXk @ Y + labda*np.eye(r))\n",
    "        for i in range(n):\n",
    "            OYi = np.diag(O[i,:])\n",
    "            result = D[i,].dot(X) @ np.linalg.inv(X.T @ OYi @ X + labda*np.eye(r))\n",
    "            Y[i,] =  result\n",
    "            \n",
    "        mse = (1/np.linalg.norm(O,ord=1)) * (np.linalg.norm(D - np.multiply(O,(Y @ X.T)), ord = 2))**2\n",
    "\n",
    "        mses.append(mse)\n",
    "        t += 1\n",
    "        if(stoppingcriteria(mses=mses)):\n",
    "            break\n",
    "\n",
    "    return X, Y,t\n",
    "\n",
    "# Run matrix completion algorithm\n",
    "X, Y, t = matrix_completion(D, r, tmax, labda)"
   ]
  },
  {
   "cell_type": "code",
   "execution_count": 33,
   "metadata": {},
   "outputs": [
    {
     "data": {
      "image/png": "[encoded data removed]",
      "text/plain": [
       "<Figure size 432x288 with 1 Axes>"
      ]
     },
     "metadata": {
      "needs_background": "light"
     },
     "output_type": "display_data"
    }
   ],
   "source": [
    "# Plot MSEO vs. iteration\n",
    "plt.plot(range(1, t), mses)\n",
    "plt.xlabel('Iteration')\n",
    "plt.ylabel('MSEO')\n",
    "\n",
    "plt.show()"
   ]
  },
  {
   "cell_type": "code",
   "execution_count": 34,
   "metadata": {},
   "outputs": [
    {
     "data": {
      "text/plain": [
       "((18, 5), (344, 5))"
      ]
     },
     "execution_count": 34,
     "metadata": {},
     "output_type": "execute_result"
    }
   ],
   "source": [
    "X.shape, Y.shape"
   ]
  },
  {
   "cell_type": "code",
   "execution_count": 35,
   "metadata": {},
   "outputs": [],
   "source": [
    "S = X @ Y.T"
   ]
  },
  {
   "cell_type": "code",
   "execution_count": 36,
   "metadata": {},
   "outputs": [
    {
     "data": {
      "text/plain": [
       "(18, 344)"
      ]
     },
     "execution_count": 36,
     "metadata": {},
     "output_type": "execute_result"
    }
   ],
   "source": [
    "S.shape"
   ]
  },
  {
   "cell_type": "code",
   "execution_count": 37,
   "metadata": {},
   "outputs": [
    {
     "data": {
      "text/plain": [
       "array([[ 3.78029016, 10.01053452,  4.14014784, ...,  2.78058824,\n",
       "         3.34282616,  3.78643102],\n",
       "       [ 4.51086119,  2.4251203 ,  8.00506308, ...,  4.25640885,\n",
       "         3.75211606,  4.0948669 ],\n",
       "       [ 4.28078183, -2.47915256,  3.67602842, ...,  4.74408477,\n",
       "         3.52074705,  4.62355989]])"
      ]
     },
     "execution_count": 37,
     "metadata": {},
     "output_type": "execute_result"
    }
   ],
   "source": [
    "S[:3]"
   ]
  },
  {
   "cell_type": "code",
   "execution_count": 38,
   "metadata": {},
   "outputs": [
    {
     "data": {
      "text/html": [
       "<div>\n",
       "<style scoped>\n",
       "    .dataframe tbody tr th:only-of-type {\n",
       "        vertical-align: middle;\n",
       "    }\n",
       "\n",
       "    .dataframe tbody tr th {\n",
       "        vertical-align: top;\n",
       "    }\n",
       "\n",
       "    .dataframe thead th {\n",
       "        text-align: right;\n",
       "    }\n",
       "</style>\n",
       "<table border=\"1\" class=\"dataframe\">\n",
       "  <thead>\n",
       "    <tr style=\"text-align: right;\">\n",
       "      <th></th>\n",
       "      <th>0</th>\n",
       "      <th>1</th>\n",
       "      <th>2</th>\n",
       "    </tr>\n",
       "  </thead>\n",
       "  <tbody>\n",
       "    <tr>\n",
       "      <th>0</th>\n",
       "      <td>3.780290</td>\n",
       "      <td>10.010535</td>\n",
       "      <td>4.140148</td>\n",
       "    </tr>\n",
       "    <tr>\n",
       "      <th>1</th>\n",
       "      <td>4.510861</td>\n",
       "      <td>2.425120</td>\n",
       "      <td>8.005063</td>\n",
       "    </tr>\n",
       "    <tr>\n",
       "      <th>2</th>\n",
       "      <td>4.280782</td>\n",
       "      <td>-2.479153</td>\n",
       "      <td>3.676028</td>\n",
       "    </tr>\n",
       "    <tr>\n",
       "      <th>3</th>\n",
       "      <td>4.558275</td>\n",
       "      <td>11.297411</td>\n",
       "      <td>3.862447</td>\n",
       "    </tr>\n",
       "    <tr>\n",
       "      <th>4</th>\n",
       "      <td>3.634922</td>\n",
       "      <td>17.890501</td>\n",
       "      <td>2.563451</td>\n",
       "    </tr>\n",
       "    <tr>\n",
       "      <th>5</th>\n",
       "      <td>4.983427</td>\n",
       "      <td>4.832660</td>\n",
       "      <td>3.313093</td>\n",
       "    </tr>\n",
       "    <tr>\n",
       "      <th>6</th>\n",
       "      <td>4.248182</td>\n",
       "      <td>0.825227</td>\n",
       "      <td>4.805148</td>\n",
       "    </tr>\n",
       "    <tr>\n",
       "      <th>7</th>\n",
       "      <td>4.617580</td>\n",
       "      <td>8.109804</td>\n",
       "      <td>3.925227</td>\n",
       "    </tr>\n",
       "    <tr>\n",
       "      <th>8</th>\n",
       "      <td>4.426599</td>\n",
       "      <td>14.048392</td>\n",
       "      <td>5.151653</td>\n",
       "    </tr>\n",
       "    <tr>\n",
       "      <th>9</th>\n",
       "      <td>3.987139</td>\n",
       "      <td>15.196737</td>\n",
       "      <td>3.239317</td>\n",
       "    </tr>\n",
       "    <tr>\n",
       "      <th>10</th>\n",
       "      <td>4.942154</td>\n",
       "      <td>6.568351</td>\n",
       "      <td>4.846306</td>\n",
       "    </tr>\n",
       "    <tr>\n",
       "      <th>11</th>\n",
       "      <td>4.560596</td>\n",
       "      <td>9.806662</td>\n",
       "      <td>3.083937</td>\n",
       "    </tr>\n",
       "    <tr>\n",
       "      <th>12</th>\n",
       "      <td>4.396699</td>\n",
       "      <td>5.049441</td>\n",
       "      <td>5.953500</td>\n",
       "    </tr>\n",
       "    <tr>\n",
       "      <th>13</th>\n",
       "      <td>2.592262</td>\n",
       "      <td>28.766254</td>\n",
       "      <td>0.950282</td>\n",
       "    </tr>\n",
       "    <tr>\n",
       "      <th>14</th>\n",
       "      <td>5.003109</td>\n",
       "      <td>4.948057</td>\n",
       "      <td>3.211602</td>\n",
       "    </tr>\n",
       "    <tr>\n",
       "      <th>15</th>\n",
       "      <td>4.508365</td>\n",
       "      <td>1.249677</td>\n",
       "      <td>2.539504</td>\n",
       "    </tr>\n",
       "    <tr>\n",
       "      <th>16</th>\n",
       "      <td>4.961626</td>\n",
       "      <td>4.958963</td>\n",
       "      <td>13.130760</td>\n",
       "    </tr>\n",
       "    <tr>\n",
       "      <th>17</th>\n",
       "      <td>4.679894</td>\n",
       "      <td>1.739153</td>\n",
       "      <td>8.561819</td>\n",
       "    </tr>\n",
       "  </tbody>\n",
       "</table>\n",
       "</div>"
      ],
      "text/plain": [
       "           0          1          2\n",
       "0   3.780290  10.010535   4.140148\n",
       "1   4.510861   2.425120   8.005063\n",
       "2   4.280782  -2.479153   3.676028\n",
       "3   4.558275  11.297411   3.862447\n",
       "4   3.634922  17.890501   2.563451\n",
       "5   4.983427   4.832660   3.313093\n",
       "6   4.248182   0.825227   4.805148\n",
       "7   4.617580   8.109804   3.925227\n",
       "8   4.426599  14.048392   5.151653\n",
       "9   3.987139  15.196737   3.239317\n",
       "10  4.942154   6.568351   4.846306\n",
       "11  4.560596   9.806662   3.083937\n",
       "12  4.396699   5.049441   5.953500\n",
       "13  2.592262  28.766254   0.950282\n",
       "14  5.003109   4.948057   3.211602\n",
       "15  4.508365   1.249677   2.539504\n",
       "16  4.961626   4.958963  13.130760\n",
       "17  4.679894   1.739153   8.561819"
      ]
     },
     "execution_count": 38,
     "metadata": {},
     "output_type": "execute_result"
    }
   ],
   "source": [
    "df = pd.DataFrame(S)\n",
    "df.iloc[:,0:3]"
   ]
  },
  {
   "cell_type": "code",
   "execution_count": 39,
   "metadata": {},
   "outputs": [],
   "source": [
    "from numpy.linalg import eigvals\n",
    "\n",
    "def check_minimum(X, Y, D):\n",
    "    \"\"\"\n",
    "    Check if the point (U, V) is a local minimum or a global minimum.\n",
    "    \n",
    "    Parameters:\n",
    "    - X: user matrix\n",
    "    - Y: item matrix\n",
    "    - D: user-item rating matrix\n",
    "    \n",
    "    Returns:\n",
    "    - is_minimum: boolean indicating if the point is a local minimum\n",
    "    \"\"\"\n",
    "    m, k = X.shape\n",
    "    k, n = Y.shape\n",
    "    \n",
    "    # Compute Hessian matrix\n",
    "    XYT = np.dot(X, Y.T)\n",
    "    H_X = np.zeros((k, k))\n",
    "    for i in range(m):\n",
    "        for j in range(n):\n",
    "            if D[i, j] > 0:\n",
    "                d_ij = D[i, j] - XYT[i, j]\n",
    "                H_X += np.outer(Y[:, j], Y[:, j]) * d_ij\n",
    "    H_X *= 2\n",
    "    H_Y = H_X.T\n",
    "    \n",
    "    # Check eigenvalues of Hessian matrix\n",
    "    eig_H_X = eigvals(H_X)\n",
    "    eig_H_Y = eigvals(H_Y)\n",
    "    is_minimum = (eig_H_X > 0).all() and (eig_H_Y > 0).all()\n",
    "    return is_minimum\n"
   ]
  },
  {
   "cell_type": "markdown",
   "metadata": {},
   "source": [
    "if all eigenvalues of the Hessian matrix are positive, that means that the point (U, V) is a local minimum of the objective function. If that's the case the function returns True, otherwise it returns False."
   ]
  },
  {
   "cell_type": "code",
   "execution_count": 40,
   "metadata": {},
   "outputs": [
    {
     "name": "stdout",
     "output_type": "stream",
     "text": [
      "False\n"
     ]
    }
   ],
   "source": [
    "is_local_minimum = check_minimum(X, Y, D)\n",
    "print(is_local_minimum)"
   ]
  },
  {
   "cell_type": "code",
   "execution_count": null,
   "metadata": {},
   "outputs": [],
   "source": []
  }
 ],
 "metadata": {
  "kernelspec": {
   "display_name": "Python 3",
   "language": "python",
   "name": "python3"
  },
  "language_info": {
   "codemirror_mode": {
    "name": "ipython",
    "version": 3
   },
   "file_extension": ".py",
   "mimetype": "text/x-python",
   "name": "python",
   "nbconvert_exporter": "python",
   "pygments_lexer": "ipython3",
   "version": "3.9.4"
  },
  "vscode": {
   "interpreter": {
    "hash": "be56beda92e9a2a216b9804457e2a0559a092d703fd904f245c1d4f7d587f64d"
   }
  }
 },
 "nbformat": 4,
 "nbformat_minor": 2
}
