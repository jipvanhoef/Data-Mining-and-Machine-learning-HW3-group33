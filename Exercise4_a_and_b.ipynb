{
 "cells": [
  {
   "cell_type": "code",
   "execution_count": 17,
   "metadata": {},
   "outputs": [],
   "source": [
    "import sklearn as sk \n",
    "import numpy as np\n",
    "import pandas as pd\n",
    "import matplotlib.pyplot as plt # data visualization library\n",
    "from sklearn.datasets import fetch_olivetti_faces\n",
    "from sklearn.decomposition import TruncatedSVD \n",
    "\n",
    "np.random.seed(1)\n",
    "\n",
    "# lets explore movies.csv\n",
    "movies= pd.read_csv('movies.csv') # not used, just information about the movies\n",
    "ratings=pd.read_csv('data/ratings.csv',sep=',')\n",
    "\n",
    "#init values\n",
    "tmax = 100\n",
    "r = 5\n",
    "labda = 1\n",
    "\n",
    "#convert sparse representation to data matrix\n",
    "df_movie_ratings = ratings.pivot(\n",
    "    index='userId',\n",
    "    columns='movieId',\n",
    "    values='rating'\n",
    ").fillna(0)  #fill unobserved entries with μ\n",
    "\n",
    "#filter only movies with more then 200 ratings\n",
    "keep_movie = np.sum(df_movie_ratings!=0,0)>200\n",
    "df_D = df_movie_ratings.loc[:,keep_movie]\n",
    "\n",
    "#filter out all users with less then 5 movie ratings\n",
    "keep_user = np.sum(df_D!=0,1)>5\n",
    "df_D = df_D.loc[keep_user,:]\n",
    "\n",
    "#convert to data matrix\n",
    "D = df_D.to_numpy()"
   ]
  },
  {
   "cell_type": "code",
   "execution_count": 18,
   "metadata": {},
   "outputs": [],
   "source": [
    "def InitRandom(n, d, r ):\n",
    "    X = np.random.rand(d, r)\n",
    "    Y = np.random.rand(n, r)\n",
    "    return X, Y\n",
    "\n",
    "def IndicatorNonzero(D):\n",
    "    return ( D != 0).astype(int)"
   ]
  },
  {
   "cell_type": "code",
   "execution_count": 19,
   "metadata": {},
   "outputs": [
    {
     "name": "stdout",
     "output_type": "stream",
     "text": [
      "n: 344 d 18\n",
      "D shape:(344, 18) O shape(344, 18)\n"
     ]
    }
   ],
   "source": [
    "n, d = D.shape\n",
    "X, Y = InitRandom(n, d, r)\n",
    "O = IndicatorNonzero(D)\n",
    "t = 1\n",
    "print(\"n: \" + str(n) + \" d \" + str(d) )\n",
    "print(\"D shape:\" + str(D.shape) + \" O shape\" + str(O.shape))\n"
   ]
  },
  {
   "cell_type": "code",
   "execution_count": 20,
   "metadata": {},
   "outputs": [],
   "source": [
    "def stoppingcriteria(mses):\n",
    "    if len(mses) < 10:\n",
    "        return False\n",
    "    else:\n",
    "        delta = []\n",
    "        for i in range(1,12):\n",
    "            delta.append((mses[len(mses)-i-1]) - mses[len(mses)-i])\n",
    "        delta = np.mean(delta)\n",
    "        if delta < 0:\n",
    "            return True\n",
    "        else:\n",
    "            return False"
   ]
  },
  {
   "cell_type": "code",
   "execution_count": 21,
   "metadata": {},
   "outputs": [],
   "source": [
    "mses = []\n",
    "\n",
    "def matrix_completion(D, r, tmax=100, labda=0.00001):\n",
    "    n, d = D.shape #n = 344, d = 18\n",
    "    X, Y = InitRandom(n, d, r) # = (d,r), Y = (n,r)\n",
    "    O = IndicatorNonzero(D)\n",
    "    t = 1\n",
    "\n",
    "    while t < tmax:\n",
    "        for k in range(d):\n",
    "            OXk = np.diag(O[:, k])\n",
    "            X[k,] = D[:,k].T.dot(Y) @ np.linalg.inv(Y.T @ OXk @ Y + labda*np.eye(r))\n",
    "        for i in range(n):\n",
    "            OYi = np.diag(O[i,:])\n",
    "            result = D[i,].dot(X) @ np.linalg.inv(X.T @ OYi @ X + labda*np.eye(r))\n",
    "            Y[i,] =  result\n",
    "            \n",
    "        mse = (1/np.linalg.norm(O,ord=1)) * (np.linalg.norm(D - np.multiply(O,(Y @ X.T)), ord = 2))**2\n",
    "\n",
    "        mses.append(mse)\n",
    "        t += 1\n",
    "        # if(stoppingcriteria(mses=mses)):\n",
    "        #     break\n",
    "\n",
    "    return X, Y,t\n",
    "\n",
    "# Run matrix completion algorithm\n",
    "X, Y, t = matrix_completion(D, r, tmax, labda)"
   ]
  },
  {
   "cell_type": "code",
   "execution_count": 22,
   "metadata": {},
   "outputs": [
    {
     "data": {
      "image/png": "[encoded data removed]",
      "text/plain": [
       "<Figure size 432x288 with 1 Axes>"
      ]
     },
     "metadata": {
      "needs_background": "light"
     },
     "output_type": "display_data"
    }
   ],
   "source": [
    "# Plot MSEO vs. iteration\n",
    "plt.plot(range(1, t), mses)\n",
    "plt.xlabel('Iteration')\n",
    "plt.ylabel('MSEO')\n",
    "\n",
    "plt.show()"
   ]
  },
  {
   "cell_type": "code",
   "execution_count": 23,
   "metadata": {},
   "outputs": [
    {
     "name": "stdout",
     "output_type": "stream",
     "text": [
      "0.3513503284328953\n"
     ]
    }
   ],
   "source": [
    "print(mses[t-2])"
   ]
  },
  {
   "cell_type": "code",
   "execution_count": 24,
   "metadata": {},
   "outputs": [
    {
     "data": {
      "text/plain": [
       "((18, 5), (344, 5))"
      ]
     },
     "execution_count": 24,
     "metadata": {},
     "output_type": "execute_result"
    }
   ],
   "source": [
    "X.shape, Y.shape"
   ]
  },
  {
   "cell_type": "code",
   "execution_count": 25,
   "metadata": {},
   "outputs": [],
   "source": [
    "S = X @ Y.T"
   ]
  },
  {
   "cell_type": "code",
   "execution_count": 26,
   "metadata": {},
   "outputs": [
    {
     "data": {
      "text/plain": [
       "(18, 344)"
      ]
     },
     "execution_count": 26,
     "metadata": {},
     "output_type": "execute_result"
    }
   ],
   "source": [
    "S.shape"
   ]
  },
  {
   "cell_type": "code",
   "execution_count": 27,
   "metadata": {},
   "outputs": [
    {
     "data": {
      "text/plain": [
       "array([[4.05015208, 5.5084823 , 3.5702173 , ..., 3.15982353, 3.15849072,\n",
       "        3.67009977],\n",
       "       [4.5069641 , 2.79057889, 3.37910044, ..., 4.50875639, 2.66596783,\n",
       "        4.50553313],\n",
       "       [4.27588735, 2.3790444 , 4.31642933, ..., 4.4335539 , 3.91392402,\n",
       "        4.17620349]])"
      ]
     },
     "execution_count": 27,
     "metadata": {},
     "output_type": "execute_result"
    }
   ],
   "source": [
    "S[:3]"
   ]
  },
  {
   "cell_type": "code",
   "execution_count": 28,
   "metadata": {},
   "outputs": [
    {
     "data": {
      "text/html": [
       "<div>\n",
       "<style scoped>\n",
       "    .dataframe tbody tr th:only-of-type {\n",
       "        vertical-align: middle;\n",
       "    }\n",
       "\n",
       "    .dataframe tbody tr th {\n",
       "        vertical-align: top;\n",
       "    }\n",
       "\n",
       "    .dataframe thead th {\n",
       "        text-align: right;\n",
       "    }\n",
       "</style>\n",
       "<table border=\"1\" class=\"dataframe\">\n",
       "  <thead>\n",
       "    <tr style=\"text-align: right;\">\n",
       "      <th></th>\n",
       "      <th>0</th>\n",
       "      <th>1</th>\n",
       "      <th>2</th>\n",
       "    </tr>\n",
       "  </thead>\n",
       "  <tbody>\n",
       "    <tr>\n",
       "      <th>0</th>\n",
       "      <td>4.050152</td>\n",
       "      <td>5.508482</td>\n",
       "      <td>3.570217</td>\n",
       "    </tr>\n",
       "    <tr>\n",
       "      <th>1</th>\n",
       "      <td>4.506964</td>\n",
       "      <td>2.790579</td>\n",
       "      <td>3.379100</td>\n",
       "    </tr>\n",
       "    <tr>\n",
       "      <th>2</th>\n",
       "      <td>4.275887</td>\n",
       "      <td>2.379044</td>\n",
       "      <td>4.316429</td>\n",
       "    </tr>\n",
       "    <tr>\n",
       "      <th>3</th>\n",
       "      <td>4.182861</td>\n",
       "      <td>-0.367660</td>\n",
       "      <td>3.389170</td>\n",
       "    </tr>\n",
       "    <tr>\n",
       "      <th>4</th>\n",
       "      <td>4.271647</td>\n",
       "      <td>5.282899</td>\n",
       "      <td>3.140252</td>\n",
       "    </tr>\n",
       "    <tr>\n",
       "      <th>5</th>\n",
       "      <td>4.991073</td>\n",
       "      <td>5.152343</td>\n",
       "      <td>4.098354</td>\n",
       "    </tr>\n",
       "    <tr>\n",
       "      <th>6</th>\n",
       "      <td>4.311601</td>\n",
       "      <td>1.752070</td>\n",
       "      <td>4.400004</td>\n",
       "    </tr>\n",
       "    <tr>\n",
       "      <th>7</th>\n",
       "      <td>4.328011</td>\n",
       "      <td>3.316326</td>\n",
       "      <td>4.266126</td>\n",
       "    </tr>\n",
       "    <tr>\n",
       "      <th>8</th>\n",
       "      <td>3.699522</td>\n",
       "      <td>1.778512</td>\n",
       "      <td>4.074835</td>\n",
       "    </tr>\n",
       "    <tr>\n",
       "      <th>9</th>\n",
       "      <td>4.129177</td>\n",
       "      <td>2.829213</td>\n",
       "      <td>3.183776</td>\n",
       "    </tr>\n",
       "    <tr>\n",
       "      <th>10</th>\n",
       "      <td>4.500187</td>\n",
       "      <td>5.908189</td>\n",
       "      <td>4.307853</td>\n",
       "    </tr>\n",
       "    <tr>\n",
       "      <th>11</th>\n",
       "      <td>4.879809</td>\n",
       "      <td>2.502902</td>\n",
       "      <td>3.328817</td>\n",
       "    </tr>\n",
       "    <tr>\n",
       "      <th>12</th>\n",
       "      <td>4.374704</td>\n",
       "      <td>4.102561</td>\n",
       "      <td>4.231406</td>\n",
       "    </tr>\n",
       "    <tr>\n",
       "      <th>13</th>\n",
       "      <td>3.574091</td>\n",
       "      <td>3.781147</td>\n",
       "      <td>2.566673</td>\n",
       "    </tr>\n",
       "    <tr>\n",
       "      <th>14</th>\n",
       "      <td>5.028648</td>\n",
       "      <td>4.757884</td>\n",
       "      <td>4.002665</td>\n",
       "    </tr>\n",
       "    <tr>\n",
       "      <th>15</th>\n",
       "      <td>4.681330</td>\n",
       "      <td>0.960968</td>\n",
       "      <td>3.842222</td>\n",
       "    </tr>\n",
       "    <tr>\n",
       "      <th>16</th>\n",
       "      <td>4.973430</td>\n",
       "      <td>4.565540</td>\n",
       "      <td>3.454902</td>\n",
       "    </tr>\n",
       "    <tr>\n",
       "      <th>17</th>\n",
       "      <td>4.576775</td>\n",
       "      <td>1.746359</td>\n",
       "      <td>3.765967</td>\n",
       "    </tr>\n",
       "  </tbody>\n",
       "</table>\n",
       "</div>"
      ],
      "text/plain": [
       "           0         1         2\n",
       "0   4.050152  5.508482  3.570217\n",
       "1   4.506964  2.790579  3.379100\n",
       "2   4.275887  2.379044  4.316429\n",
       "3   4.182861 -0.367660  3.389170\n",
       "4   4.271647  5.282899  3.140252\n",
       "5   4.991073  5.152343  4.098354\n",
       "6   4.311601  1.752070  4.400004\n",
       "7   4.328011  3.316326  4.266126\n",
       "8   3.699522  1.778512  4.074835\n",
       "9   4.129177  2.829213  3.183776\n",
       "10  4.500187  5.908189  4.307853\n",
       "11  4.879809  2.502902  3.328817\n",
       "12  4.374704  4.102561  4.231406\n",
       "13  3.574091  3.781147  2.566673\n",
       "14  5.028648  4.757884  4.002665\n",
       "15  4.681330  0.960968  3.842222\n",
       "16  4.973430  4.565540  3.454902\n",
       "17  4.576775  1.746359  3.765967"
      ]
     },
     "execution_count": 28,
     "metadata": {},
     "output_type": "execute_result"
    }
   ],
   "source": [
    "df = pd.DataFrame(S)\n",
    "df.iloc[:,0:3]"
   ]
  },
  {
   "cell_type": "code",
   "execution_count": 29,
   "metadata": {},
   "outputs": [],
   "source": [
    "from numpy.linalg import eigvals\n",
    "\n",
    "def check_minimum(X, Y, D):\n",
    "    \"\"\"\n",
    "    Check if the point (U, V) is a local minimum or a global minimum.\n",
    "    \n",
    "    Parameters:\n",
    "    - X: user matrix\n",
    "    - Y: item matrix\n",
    "    - D: user-item rating matrix\n",
    "    \n",
    "    Returns:\n",
    "    - is_minimum: boolean indicating if the point is a local minimum\n",
    "    \"\"\"\n",
    "    m, k = X.shape\n",
    "    k, n = Y.shape\n",
    "    \n",
    "    # Compute Hessian matrix\n",
    "    XYT = np.dot(X, Y.T)\n",
    "    H_X = np.zeros((k, k))\n",
    "    for i in range(m):\n",
    "        for j in range(n):\n",
    "            if D[i, j] > 0:\n",
    "                d_ij = D[i, j] - XYT[i, j]\n",
    "                H_X += np.outer(Y[:, j], Y[:, j]) * d_ij\n",
    "    H_X *= 2\n",
    "    H_Y = H_X.T\n",
    "    \n",
    "    # Check eigenvalues of Hessian matrix\n",
    "    eig_H_X = eigvals(H_X)\n",
    "    eig_H_Y = eigvals(H_Y)\n",
    "    is_minimum = (eig_H_X > 0).all() and (eig_H_Y > 0).all()\n",
    "    return is_minimum\n"
   ]
  },
  {
   "cell_type": "markdown",
   "metadata": {},
   "source": [
    "if all eigenvalues of the Hessian matrix are positive, that means that the point (U, V) is a local minimum of the objective function. If that's the case the function returns True, otherwise it returns False."
   ]
  },
  {
   "cell_type": "code",
   "execution_count": 30,
   "metadata": {},
   "outputs": [
    {
     "name": "stdout",
     "output_type": "stream",
     "text": [
      "False\n"
     ]
    }
   ],
   "source": [
    "is_local_minimum = check_minimum(X, Y, D)\n",
    "print(is_local_minimum)"
   ]
  },
  {
   "cell_type": "code",
   "execution_count": null,
   "metadata": {},
   "outputs": [],
   "source": []
  }
 ],
 "metadata": {
  "kernelspec": {
   "display_name": "Python 3",
   "language": "python",
   "name": "python3"
  },
  "language_info": {
   "codemirror_mode": {
    "name": "ipython",
    "version": 3
   },
   "file_extension": ".py",
   "mimetype": "text/x-python",
   "name": "python",
   "nbconvert_exporter": "python",
   "pygments_lexer": "ipython3",
   "version": "3.9.4 (tags/v3.9.4:1f2e308, Apr  6 2021, 13:40:21) [MSC v.1928 64 bit (AMD64)]"
  },
  "vscode": {
   "interpreter": {
    "hash": "be56beda92e9a2a216b9804457e2a0559a092d703fd904f245c1d4f7d587f64d"
   }
  }
 },
 "nbformat": 4,
 "nbformat_minor": 2
}
