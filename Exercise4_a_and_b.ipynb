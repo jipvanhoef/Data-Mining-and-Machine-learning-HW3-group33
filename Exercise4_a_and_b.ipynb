{
 "cells": [
  {
   "cell_type": "code",
   "execution_count": 80,
   "metadata": {},
   "outputs": [],
   "source": [
    "import sklearn as sk \n",
    "import numpy as np\n",
    "import pandas as pd\n",
    "import matplotlib.pyplot as plt # data visualization library\n",
    "from sklearn.datasets import fetch_olivetti_faces\n",
    "from sklearn.decomposition import TruncatedSVD \n",
    "\n",
    "np.random.seed(1)\n",
    "\n",
    "# lets explore movies.csv\n",
    "movies= pd.read_csv('movies.csv') # not used, just information about the movies\n",
    "ratings=pd.read_csv('data/ratings.csv',sep=',')\n",
    "\n",
    "#init values\n",
    "tmax = 100\n",
    "r = 5\n",
    "labda = 1\n",
    "\n",
    "#convert sparse representation to data matrix\n",
    "df_movie_ratings = ratings.pivot(\n",
    "    index='userId',\n",
    "    columns='movieId',\n",
    "    values='rating'\n",
    ").fillna(0)  #fill unobserved entries with μ\n",
    "\n",
    "#filter only movies with more then 200 ratings\n",
    "keep_movie = np.sum(df_movie_ratings!=0,0)>200\n",
    "df_D = df_movie_ratings.loc[:,keep_movie]\n",
    "\n",
    "#filter out all users with less then 5 movie ratings\n",
    "keep_user = np.sum(df_D!=0,1)>5\n",
    "df_D = df_D.loc[keep_user,:]\n",
    "\n",
    "#convert to data matrix\n",
    "D = df_D.to_numpy()"
   ]
  },
  {
   "cell_type": "code",
   "execution_count": 81,
   "metadata": {},
   "outputs": [],
   "source": [
    "def InitRandom(n, d, r ):\n",
    "    X = np.random.rand(d, r)\n",
    "    Y = np.random.rand(n, r)\n",
    "    return X, Y\n",
    "\n",
    "def IndicatorNonzero(D):\n",
    "    return ( D != 0).astype(int)"
   ]
  },
  {
   "cell_type": "code",
   "execution_count": 82,
   "metadata": {},
   "outputs": [
    {
     "name": "stdout",
     "output_type": "stream",
     "text": [
      "n: 344 d 18\n",
      "D shape:(344, 18) O shape(344, 18)\n"
     ]
    }
   ],
   "source": [
    "n, d = D.shape\n",
    "X, Y = InitRandom(n, d, r)\n",
    "O = IndicatorNonzero(D)\n",
    "t = 1\n",
    "print(\"n: \" + str(n) + \" d \" + str(d) )\n",
    "print(\"D shape:\" + str(D.shape) + \" O shape\" + str(O.shape))\n"
   ]
  },
  {
   "cell_type": "code",
   "execution_count": 83,
   "metadata": {},
   "outputs": [],
   "source": [
    "def stoppingcriteria(mses):\n",
    "    if len(mses) < 10:\n",
    "        return False\n",
    "    else:\n",
    "        delta = []\n",
    "        for i in range(1,12):\n",
    "            delta.append((mses[len(mses)-i-1]) - mses[len(mses)-i])\n",
    "        delta = np.mean(delta)\n",
    "        if delta < 0:\n",
    "            return True\n",
    "        else:\n",
    "            return False"
   ]
  },
  {
   "cell_type": "code",
   "execution_count": 84,
   "metadata": {},
   "outputs": [],
   "source": [
    "mses = []\n",
    "\n",
    "def matrix_completion(D, r, tmax=100, labda=0.00001):\n",
    "    n, d = D.shape #n = 344, d = 18\n",
    "    X, Y = InitRandom(n, d, r) # = (d,r), Y = (n,r)\n",
    "    O = IndicatorNonzero(D)\n",
    "    t = 1\n",
    "\n",
    "    while t < tmax:\n",
    "        for k in range(d):\n",
    "            OXk = np.diag(O[:, k])\n",
    "            X[k,] = D[:,k].T.dot(Y) @ np.linalg.inv(Y.T @ OXk @ Y + labda*np.eye(r))\n",
    "        for i in range(n):\n",
    "            OYi = np.diag(O[i,:])\n",
    "            result = D[i,].dot(X) @ np.linalg.inv(X.T @ OYi @ X + labda*np.eye(r))\n",
    "            Y[i,] =  result\n",
    "            \n",
    "        mse = (1/np.linalg.norm(O,ord=1)) * (np.linalg.norm(D - np.multiply(O,(Y @ X.T)), ord = 2))**2\n",
    "\n",
    "        mses.append(mse)\n",
    "        t += 1\n",
    "        if(stoppingcriteria(mses=mses)):\n",
    "            break\n",
    "\n",
    "    return X, Y,t\n",
    "\n",
    "# Run matrix completion algorithm\n",
    "X, Y, t = matrix_completion(D, r, tmax, labda)"
   ]
  },
  {
   "cell_type": "code",
   "execution_count": 85,
   "metadata": {},
   "outputs": [
    {
     "data": {
      "image/png": "[encoded data removed]",
      "text/plain": [
       "<Figure size 432x288 with 1 Axes>"
      ]
     },
     "metadata": {
      "needs_background": "light"
     },
     "output_type": "display_data"
    }
   ],
   "source": [
    "# Plot MSEO vs. iteration\n",
    "plt.plot(range(1, t), mses)\n",
    "plt.xlabel('Iteration')\n",
    "plt.ylabel('MSEO')\n",
    "\n",
    "plt.show()"
   ]
  },
  {
   "cell_type": "code",
   "execution_count": 86,
   "metadata": {},
   "outputs": [
    {
     "data": {
      "text/plain": [
       "((18, 5), (344, 5))"
      ]
     },
     "execution_count": 86,
     "metadata": {},
     "output_type": "execute_result"
    }
   ],
   "source": [
    "X.shape, Y.shape"
   ]
  },
  {
   "cell_type": "code",
   "execution_count": 87,
   "metadata": {},
   "outputs": [],
   "source": [
    "S = X @ Y.T"
   ]
  },
  {
   "cell_type": "code",
   "execution_count": 88,
   "metadata": {},
   "outputs": [
    {
     "data": {
      "text/plain": [
       "(18, 344)"
      ]
     },
     "execution_count": 88,
     "metadata": {},
     "output_type": "execute_result"
    }
   ],
   "source": [
    "S.shape"
   ]
  },
  {
   "cell_type": "code",
   "execution_count": 89,
   "metadata": {},
   "outputs": [
    {
     "data": {
      "text/plain": [
       "array([[4.21376677, 7.35696528, 3.85902662, ..., 3.17854558, 3.23418759,\n",
       "        3.50505709],\n",
       "       [4.55683288, 2.21058034, 4.98662564, ..., 4.56348718, 3.04879072,\n",
       "        4.70570453],\n",
       "       [4.19660689, 3.97400109, 4.06265561, ..., 4.38633154, 3.7708461 ,\n",
       "        3.98736876]])"
      ]
     },
     "execution_count": 89,
     "metadata": {},
     "output_type": "execute_result"
    }
   ],
   "source": [
    "S[:3]"
   ]
  },
  {
   "cell_type": "code",
   "execution_count": 90,
   "metadata": {},
   "outputs": [
    {
     "data": {
      "text/html": [
       "<div>\n",
       "<style scoped>\n",
       "    .dataframe tbody tr th:only-of-type {\n",
       "        vertical-align: middle;\n",
       "    }\n",
       "\n",
       "    .dataframe tbody tr th {\n",
       "        vertical-align: top;\n",
       "    }\n",
       "\n",
       "    .dataframe thead th {\n",
       "        text-align: right;\n",
       "    }\n",
       "</style>\n",
       "<table border=\"1\" class=\"dataframe\">\n",
       "  <thead>\n",
       "    <tr style=\"text-align: right;\">\n",
       "      <th></th>\n",
       "      <th>0</th>\n",
       "      <th>1</th>\n",
       "      <th>2</th>\n",
       "    </tr>\n",
       "  </thead>\n",
       "  <tbody>\n",
       "    <tr>\n",
       "      <th>0</th>\n",
       "      <td>4.213767</td>\n",
       "      <td>7.356965</td>\n",
       "      <td>3.859027</td>\n",
       "    </tr>\n",
       "    <tr>\n",
       "      <th>1</th>\n",
       "      <td>4.556833</td>\n",
       "      <td>2.210580</td>\n",
       "      <td>4.986626</td>\n",
       "    </tr>\n",
       "    <tr>\n",
       "      <th>2</th>\n",
       "      <td>4.196607</td>\n",
       "      <td>3.974001</td>\n",
       "      <td>4.062656</td>\n",
       "    </tr>\n",
       "    <tr>\n",
       "      <th>3</th>\n",
       "      <td>3.958377</td>\n",
       "      <td>0.462930</td>\n",
       "      <td>3.603375</td>\n",
       "    </tr>\n",
       "    <tr>\n",
       "      <th>4</th>\n",
       "      <td>4.453968</td>\n",
       "      <td>5.454990</td>\n",
       "      <td>3.416146</td>\n",
       "    </tr>\n",
       "    <tr>\n",
       "      <th>5</th>\n",
       "      <td>4.970981</td>\n",
       "      <td>5.088283</td>\n",
       "      <td>3.579911</td>\n",
       "    </tr>\n",
       "    <tr>\n",
       "      <th>6</th>\n",
       "      <td>4.231233</td>\n",
       "      <td>1.949941</td>\n",
       "      <td>4.615811</td>\n",
       "    </tr>\n",
       "    <tr>\n",
       "      <th>7</th>\n",
       "      <td>4.412301</td>\n",
       "      <td>7.093361</td>\n",
       "      <td>4.022278</td>\n",
       "    </tr>\n",
       "    <tr>\n",
       "      <th>8</th>\n",
       "      <td>3.676015</td>\n",
       "      <td>5.312356</td>\n",
       "      <td>3.583026</td>\n",
       "    </tr>\n",
       "    <tr>\n",
       "      <th>9</th>\n",
       "      <td>3.915953</td>\n",
       "      <td>2.988343</td>\n",
       "      <td>3.206072</td>\n",
       "    </tr>\n",
       "    <tr>\n",
       "      <th>10</th>\n",
       "      <td>4.874477</td>\n",
       "      <td>8.316928</td>\n",
       "      <td>3.878649</td>\n",
       "    </tr>\n",
       "    <tr>\n",
       "      <th>11</th>\n",
       "      <td>4.564130</td>\n",
       "      <td>2.076661</td>\n",
       "      <td>3.291876</td>\n",
       "    </tr>\n",
       "    <tr>\n",
       "      <th>12</th>\n",
       "      <td>4.063471</td>\n",
       "      <td>3.834477</td>\n",
       "      <td>4.160747</td>\n",
       "    </tr>\n",
       "    <tr>\n",
       "      <th>13</th>\n",
       "      <td>3.526478</td>\n",
       "      <td>4.383172</td>\n",
       "      <td>2.745898</td>\n",
       "    </tr>\n",
       "    <tr>\n",
       "      <th>14</th>\n",
       "      <td>5.010465</td>\n",
       "      <td>4.849028</td>\n",
       "      <td>3.622651</td>\n",
       "    </tr>\n",
       "    <tr>\n",
       "      <th>15</th>\n",
       "      <td>4.735209</td>\n",
       "      <td>1.107137</td>\n",
       "      <td>4.229757</td>\n",
       "    </tr>\n",
       "    <tr>\n",
       "      <th>16</th>\n",
       "      <td>5.036913</td>\n",
       "      <td>4.531725</td>\n",
       "      <td>5.163541</td>\n",
       "    </tr>\n",
       "    <tr>\n",
       "      <th>17</th>\n",
       "      <td>4.815643</td>\n",
       "      <td>2.130231</td>\n",
       "      <td>5.304252</td>\n",
       "    </tr>\n",
       "  </tbody>\n",
       "</table>\n",
       "</div>"
      ],
      "text/plain": [
       "           0         1         2\n",
       "0   4.213767  7.356965  3.859027\n",
       "1   4.556833  2.210580  4.986626\n",
       "2   4.196607  3.974001  4.062656\n",
       "3   3.958377  0.462930  3.603375\n",
       "4   4.453968  5.454990  3.416146\n",
       "5   4.970981  5.088283  3.579911\n",
       "6   4.231233  1.949941  4.615811\n",
       "7   4.412301  7.093361  4.022278\n",
       "8   3.676015  5.312356  3.583026\n",
       "9   3.915953  2.988343  3.206072\n",
       "10  4.874477  8.316928  3.878649\n",
       "11  4.564130  2.076661  3.291876\n",
       "12  4.063471  3.834477  4.160747\n",
       "13  3.526478  4.383172  2.745898\n",
       "14  5.010465  4.849028  3.622651\n",
       "15  4.735209  1.107137  4.229757\n",
       "16  5.036913  4.531725  5.163541\n",
       "17  4.815643  2.130231  5.304252"
      ]
     },
     "execution_count": 90,
     "metadata": {},
     "output_type": "execute_result"
    }
   ],
   "source": [
    "df = pd.DataFrame(S)\n",
    "df.iloc[:,0:3]"
   ]
  },
  {
   "cell_type": "code",
   "execution_count": 91,
   "metadata": {},
   "outputs": [],
   "source": [
    "from numpy.linalg import eigvals\n",
    "\n",
    "def check_minimum(X, Y, D):\n",
    "    \"\"\"\n",
    "    Check if the point (U, V) is a local minimum or a global minimum.\n",
    "    \n",
    "    Parameters:\n",
    "    - X: user matrix\n",
    "    - Y: item matrix\n",
    "    - D: user-item rating matrix\n",
    "    \n",
    "    Returns:\n",
    "    - is_minimum: boolean indicating if the point is a local minimum\n",
    "    \"\"\"\n",
    "    m, k = X.shape\n",
    "    k, n = Y.shape\n",
    "    \n",
    "    # Compute Hessian matrix\n",
    "    XYT = np.dot(X, Y.T)\n",
    "    H_X = np.zeros((k, k))\n",
    "    for i in range(m):\n",
    "        for j in range(n):\n",
    "            if D[i, j] > 0:\n",
    "                d_ij = D[i, j] - XYT[i, j]\n",
    "                H_X += np.outer(Y[:, j], Y[:, j]) * d_ij\n",
    "    H_X *= 2\n",
    "    H_Y = H_X.T\n",
    "    \n",
    "    # Check eigenvalues of Hessian matrix\n",
    "    eig_H_X = eigvals(H_X)\n",
    "    eig_H_Y = eigvals(H_Y)\n",
    "    is_minimum = (eig_H_X > 0).all() and (eig_H_Y > 0).all()\n",
    "    return is_minimum\n"
   ]
  },
  {
   "cell_type": "markdown",
   "metadata": {},
   "source": [
    "if all eigenvalues of the Hessian matrix are positive, that means that the point (U, V) is a local minimum of the objective function. If that's the case the function returns True, otherwise it returns False."
   ]
  },
  {
   "cell_type": "code",
   "execution_count": 92,
   "metadata": {},
   "outputs": [
    {
     "name": "stdout",
     "output_type": "stream",
     "text": [
      "False\n"
     ]
    }
   ],
   "source": [
    "is_local_minimum = check_minimum(X, Y, D)\n",
    "print(is_local_minimum)"
   ]
  },
  {
   "cell_type": "code",
   "execution_count": null,
   "metadata": {},
   "outputs": [],
   "source": []
  }
 ],
 "metadata": {
  "kernelspec": {
   "display_name": "Python 3",
   "language": "python",
   "name": "python3"
  },
  "language_info": {
   "codemirror_mode": {
    "name": "ipython",
    "version": 3
   },
   "file_extension": ".py",
   "mimetype": "text/x-python",
   "name": "python",
   "nbconvert_exporter": "python",
   "pygments_lexer": "ipython3",
   "version": "3.9.4 (tags/v3.9.4:1f2e308, Apr  6 2021, 13:40:21) [MSC v.1928 64 bit (AMD64)]"
  },
  "vscode": {
   "interpreter": {
    "hash": "be56beda92e9a2a216b9804457e2a0559a092d703fd904f245c1d4f7d587f64d"
   }
  }
 },
 "nbformat": 4,
 "nbformat_minor": 2
}
