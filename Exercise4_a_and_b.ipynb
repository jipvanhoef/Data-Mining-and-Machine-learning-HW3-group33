{
 "cells": [
  {
   "cell_type": "code",
   "execution_count": 13,
   "metadata": {},
   "outputs": [],
   "source": [
    "import sklearn as sk \n",
    "import numpy as np\n",
    "import pandas as pd\n",
    "import matplotlib.pyplot as plt # data visualization library\n",
    "from sklearn.datasets import fetch_olivetti_faces\n",
    "from sklearn.decomposition import TruncatedSVD \n",
    "\n",
    "np.random.seed()\n",
    "\n",
    "# lets explore movies.csv\n",
    "movies= pd.read_csv('movies.csv') # not used, just information about the movies\n",
    "ratings=pd.read_csv('data/ratings.csv',sep=',')\n",
    "\n",
    "#init values\n",
    "tmax = 100\n",
    "r = 5\n",
    "labda = 1\n",
    "\n",
    "#convert sparse representation to data matrix\n",
    "df_movie_ratings = ratings.pivot(\n",
    "    index='userId',\n",
    "    columns='movieId',\n",
    "    values='rating'\n",
    ").fillna(0)  #fill unobserved entries with μ\n",
    "\n",
    "#filter only movies with more then 200 ratings\n",
    "keep_movie = np.sum(df_movie_ratings!=0,0)>200\n",
    "df_D = df_movie_ratings.loc[:,keep_movie]\n",
    "\n",
    "#filter out all users with less then 5 movie ratings\n",
    "keep_user = np.sum(df_D!=0,1)>5\n",
    "df_D = df_D.loc[keep_user,:]\n",
    "\n",
    "#convert to data matrix\n",
    "D = df_D.to_numpy()"
   ]
  },
  {
   "cell_type": "code",
   "execution_count": 14,
   "metadata": {},
   "outputs": [],
   "source": [
    "def InitRandom(n, d, r ):\n",
    "    X = np.random.rand(d, r)\n",
    "    Y = np.random.rand(n, r)\n",
    "    return X, Y\n",
    "\n",
    "def IndicatorNonzero(D):\n",
    "    return ( D != 0).astype(int)"
   ]
  },
  {
   "cell_type": "code",
   "execution_count": 15,
   "metadata": {},
   "outputs": [
    {
     "name": "stdout",
     "output_type": "stream",
     "text": [
      "n: 344 d 18\n",
      "D shape:(344, 18) O shape(344, 18)\n"
     ]
    }
   ],
   "source": [
    "n, d = D.shape\n",
    "X, Y = InitRandom(n, d, r)\n",
    "O = IndicatorNonzero(D)\n",
    "t = 1\n",
    "print(\"n: \" + str(n) + \" d \" + str(d) )\n",
    "print(\"D shape:\" + str(D.shape) + \" O shape\" + str(O.shape))"
   ]
  },
  {
   "cell_type": "code",
   "execution_count": 16,
   "metadata": {},
   "outputs": [],
   "source": [
    "mses = []\n",
    "\n",
    "def matrix_completion(D, r, tmax=100, labda=0.00001):\n",
    "    n, d = D.shape #n = 344, d = 18\n",
    "    X, Y = InitRandom(n, d, r) # = (d,r), Y = (n,r)\n",
    "    O = IndicatorNonzero(D)\n",
    "    t = 1\n",
    "\n",
    "    while t < tmax:\n",
    "        for k in range(d):\n",
    "            OXk = np.diag(O[:, k])\n",
    "            X[k,] = D[:,k].T.dot(Y) @ np.linalg.inv(Y.T @ OXk @ Y + labda*np.eye(r))\n",
    "        for i in range(n):\n",
    "            OYi = np.diag(O[i,:])\n",
    "            result = D[i,].dot(X) @ np.linalg.inv(X.T @ OYi @ X + labda*np.eye(r))\n",
    "            Y[i,] =  result\n",
    "            \n",
    "        mse = (1/np.sum(O)) * (np.linalg.norm(D - np.multiply(O,(Y @ X.T)), ord = 2))**2\n",
    "\n",
    "        mses.append(mse)\n",
    "        t += 1\n",
    "\n",
    "    return X, Y\n",
    "\n",
    "# Run matrix completion algorithm\n",
    "X, Y = matrix_completion(D, r, tmax, labda)"
   ]
  },
  {
   "cell_type": "code",
   "execution_count": 17,
   "metadata": {},
   "outputs": [
    {
     "data": {
      "image/png": "[encoded data removed]",
      "text/plain": [
       "<Figure size 432x288 with 1 Axes>"
      ]
     },
     "metadata": {
      "needs_background": "light"
     },
     "output_type": "display_data"
    }
   ],
   "source": [
    "# Plot MSEO vs. iteration\n",
    "plt.plot(range(2, tmax), mses[1:])\n",
    "plt.xlabel('Iteration')\n",
    "plt.ylabel('MSEO')\n",
    "\n",
    "plt.show()"
   ]
  },
  {
   "cell_type": "code",
   "execution_count": 18,
   "metadata": {},
   "outputs": [
    {
     "data": {
      "text/plain": [
       "((18, 5), (344, 5))"
      ]
     },
     "execution_count": 18,
     "metadata": {},
     "output_type": "execute_result"
    }
   ],
   "source": [
    "X.shape, Y.shape"
   ]
  },
  {
   "cell_type": "code",
   "execution_count": 19,
   "metadata": {},
   "outputs": [],
   "source": [
    "S = X @ Y.T"
   ]
  },
  {
   "cell_type": "code",
   "execution_count": 20,
   "metadata": {},
   "outputs": [
    {
     "data": {
      "text/plain": [
       "(18, 344)"
      ]
     },
     "execution_count": 20,
     "metadata": {},
     "output_type": "execute_result"
    }
   ],
   "source": [
    "S.shape"
   ]
  },
  {
   "cell_type": "code",
   "execution_count": 21,
   "metadata": {},
   "outputs": [
    {
     "data": {
      "text/plain": [
       "array([[4.04239227, 6.35676483, 3.89396435, ..., 2.90554271, 3.2817925 ,\n",
       "        3.99808562],\n",
       "       [4.04279628, 2.01437895, 4.30257726, ..., 4.15615614, 3.40310873,\n",
       "        5.22652302],\n",
       "       [4.7249373 , 4.2983636 , 4.13316981, ..., 4.55547048, 3.74741093,\n",
       "        4.13267958]])"
      ]
     },
     "execution_count": 21,
     "metadata": {},
     "output_type": "execute_result"
    }
   ],
   "source": [
    "S[:3]"
   ]
  },
  {
   "cell_type": "code",
   "execution_count": 22,
   "metadata": {},
   "outputs": [
    {
     "data": {
      "text/html": [
       "<div>\n",
       "<style scoped>\n",
       "    .dataframe tbody tr th:only-of-type {\n",
       "        vertical-align: middle;\n",
       "    }\n",
       "\n",
       "    .dataframe tbody tr th {\n",
       "        vertical-align: top;\n",
       "    }\n",
       "\n",
       "    .dataframe thead th {\n",
       "        text-align: right;\n",
       "    }\n",
       "</style>\n",
       "<table border=\"1\" class=\"dataframe\">\n",
       "  <thead>\n",
       "    <tr style=\"text-align: right;\">\n",
       "      <th></th>\n",
       "      <th>0</th>\n",
       "      <th>1</th>\n",
       "      <th>2</th>\n",
       "    </tr>\n",
       "  </thead>\n",
       "  <tbody>\n",
       "    <tr>\n",
       "      <th>0</th>\n",
       "      <td>4.042392</td>\n",
       "      <td>6.356765</td>\n",
       "      <td>3.893964</td>\n",
       "    </tr>\n",
       "    <tr>\n",
       "      <th>1</th>\n",
       "      <td>4.042796</td>\n",
       "      <td>2.014379</td>\n",
       "      <td>4.302577</td>\n",
       "    </tr>\n",
       "    <tr>\n",
       "      <th>2</th>\n",
       "      <td>4.724937</td>\n",
       "      <td>4.298364</td>\n",
       "      <td>4.133170</td>\n",
       "    </tr>\n",
       "    <tr>\n",
       "      <th>3</th>\n",
       "      <td>4.199764</td>\n",
       "      <td>1.216308</td>\n",
       "      <td>3.512668</td>\n",
       "    </tr>\n",
       "    <tr>\n",
       "      <th>4</th>\n",
       "      <td>3.968117</td>\n",
       "      <td>5.314398</td>\n",
       "      <td>3.182226</td>\n",
       "    </tr>\n",
       "    <tr>\n",
       "      <th>5</th>\n",
       "      <td>4.908675</td>\n",
       "      <td>5.010748</td>\n",
       "      <td>3.799950</td>\n",
       "    </tr>\n",
       "    <tr>\n",
       "      <th>6</th>\n",
       "      <td>4.662487</td>\n",
       "      <td>1.991242</td>\n",
       "      <td>4.455772</td>\n",
       "    </tr>\n",
       "    <tr>\n",
       "      <th>7</th>\n",
       "      <td>4.843582</td>\n",
       "      <td>5.883062</td>\n",
       "      <td>4.256425</td>\n",
       "    </tr>\n",
       "    <tr>\n",
       "      <th>8</th>\n",
       "      <td>4.330389</td>\n",
       "      <td>4.978242</td>\n",
       "      <td>3.936173</td>\n",
       "    </tr>\n",
       "    <tr>\n",
       "      <th>9</th>\n",
       "      <td>3.798452</td>\n",
       "      <td>2.076971</td>\n",
       "      <td>3.378264</td>\n",
       "    </tr>\n",
       "    <tr>\n",
       "      <th>10</th>\n",
       "      <td>4.827570</td>\n",
       "      <td>7.647992</td>\n",
       "      <td>3.952165</td>\n",
       "    </tr>\n",
       "    <tr>\n",
       "      <th>11</th>\n",
       "      <td>4.362206</td>\n",
       "      <td>1.423352</td>\n",
       "      <td>3.366413</td>\n",
       "    </tr>\n",
       "    <tr>\n",
       "      <th>12</th>\n",
       "      <td>4.493847</td>\n",
       "      <td>4.548970</td>\n",
       "      <td>4.436825</td>\n",
       "    </tr>\n",
       "    <tr>\n",
       "      <th>13</th>\n",
       "      <td>3.162743</td>\n",
       "      <td>2.771621</td>\n",
       "      <td>2.878325</td>\n",
       "    </tr>\n",
       "    <tr>\n",
       "      <th>14</th>\n",
       "      <td>4.878131</td>\n",
       "      <td>4.593148</td>\n",
       "      <td>3.770004</td>\n",
       "    </tr>\n",
       "    <tr>\n",
       "      <th>15</th>\n",
       "      <td>4.626673</td>\n",
       "      <td>1.220868</td>\n",
       "      <td>3.795749</td>\n",
       "    </tr>\n",
       "    <tr>\n",
       "      <th>16</th>\n",
       "      <td>4.581588</td>\n",
       "      <td>4.679904</td>\n",
       "      <td>4.012551</td>\n",
       "    </tr>\n",
       "    <tr>\n",
       "      <th>17</th>\n",
       "      <td>4.385136</td>\n",
       "      <td>1.675997</td>\n",
       "      <td>4.471438</td>\n",
       "    </tr>\n",
       "  </tbody>\n",
       "</table>\n",
       "</div>"
      ],
      "text/plain": [
       "           0         1         2\n",
       "0   4.042392  6.356765  3.893964\n",
       "1   4.042796  2.014379  4.302577\n",
       "2   4.724937  4.298364  4.133170\n",
       "3   4.199764  1.216308  3.512668\n",
       "4   3.968117  5.314398  3.182226\n",
       "5   4.908675  5.010748  3.799950\n",
       "6   4.662487  1.991242  4.455772\n",
       "7   4.843582  5.883062  4.256425\n",
       "8   4.330389  4.978242  3.936173\n",
       "9   3.798452  2.076971  3.378264\n",
       "10  4.827570  7.647992  3.952165\n",
       "11  4.362206  1.423352  3.366413\n",
       "12  4.493847  4.548970  4.436825\n",
       "13  3.162743  2.771621  2.878325\n",
       "14  4.878131  4.593148  3.770004\n",
       "15  4.626673  1.220868  3.795749\n",
       "16  4.581588  4.679904  4.012551\n",
       "17  4.385136  1.675997  4.471438"
      ]
     },
     "execution_count": 22,
     "metadata": {},
     "output_type": "execute_result"
    }
   ],
   "source": [
    "df = pd.DataFrame(S)\n",
    "df.iloc[:,0:3]"
   ]
  },
  {
   "cell_type": "code",
   "execution_count": 11,
   "metadata": {},
   "outputs": [],
   "source": [
    "from numpy.linalg import eigvals\n",
    "\n",
    "def check_minimum(X, Y, D):\n",
    "    \"\"\"\n",
    "    Check if the point (U, V) is a local minimum or a global minimum.\n",
    "    \n",
    "    Parameters:\n",
    "    - X: user matrix\n",
    "    - Y: item matrix\n",
    "    - D: user-item rating matrix\n",
    "    \n",
    "    Returns:\n",
    "    - is_minimum: boolean indicating if the point is a local minimum\n",
    "    \"\"\"\n",
    "    m, k = X.shape\n",
    "    k, n = Y.shape\n",
    "    \n",
    "    # Compute Hessian matrix\n",
    "    XYT = np.dot(X, Y.T)\n",
    "    H_X = np.zeros((k, k))\n",
    "    for i in range(m):\n",
    "        for j in range(n):\n",
    "            if D[i, j] > 0:\n",
    "                d_ij = D[i, j] - XYT[i, j]\n",
    "                H_X += np.outer(Y[:, j], Y[:, j]) * d_ij\n",
    "    H_X *= 2\n",
    "    H_Y = H_X.T\n",
    "    \n",
    "    # Check eigenvalues of Hessian matrix\n",
    "    eig_H_X = eigvals(H_X)\n",
    "    eig_H_Y = eigvals(H_Y)\n",
    "    is_minimum = (eig_H_X > 0).all() and (eig_H_Y > 0).all()\n",
    "    return is_minimum\n"
   ]
  },
  {
   "cell_type": "markdown",
   "metadata": {},
   "source": [
    "if all eigenvalues of the Hessian matrix are positive, that means that the point (U, V) is a local minimum of the objective function. If that's the case the function returns True, otherwise it returns False."
   ]
  },
  {
   "cell_type": "code",
   "execution_count": 12,
   "metadata": {},
   "outputs": [
    {
     "name": "stdout",
     "output_type": "stream",
     "text": [
      "False\n"
     ]
    }
   ],
   "source": [
    "is_local_minimum = check_minimum(X, Y, D)\n",
    "print(is_local_minimum)"
   ]
  },
  {
   "cell_type": "code",
   "execution_count": null,
   "metadata": {},
   "outputs": [],
   "source": []
  }
 ],
 "metadata": {
  "kernelspec": {
   "display_name": "Python 3",
   "language": "python",
   "name": "python3"
  },
  "language_info": {
   "codemirror_mode": {
    "name": "ipython",
    "version": 3
   },
   "file_extension": ".py",
   "mimetype": "text/x-python",
   "name": "python",
   "nbconvert_exporter": "python",
   "pygments_lexer": "ipython3",
   "version": "3.7.6"
  },
  "vscode": {
   "interpreter": {
    "hash": "adb3876eade566ada72ff9ca3d34e8de14d84c64974bf980b59b273858873b90"
   }
  }
 },
 "nbformat": 4,
 "nbformat_minor": 2
}
